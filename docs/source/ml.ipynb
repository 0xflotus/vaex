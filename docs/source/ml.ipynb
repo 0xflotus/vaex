{
 "cells": [
  {
   "cell_type": "raw",
   "metadata": {
    "raw_mimetype": "text/html"
   },
   "source": [
    "<style>\n",
    "pre {\n",
    " white-space: pre-wrap !important;\n",
    "}\n",
    ".table-striped > tbody > tr:nth-of-type(odd) {\n",
    "    background-color: #f9f9f9;\n",
    "}\n",
    ".table-striped > tbody > tr:nth-of-type(even) {\n",
    "    background-color: white;\n",
    "}\n",
    ".table-striped td, .table-striped th, .table-striped tr {\n",
    "    border: 1px solid black;\n",
    "    border-collapse: collapse;\n",
    "    margin: 1em 2em;\n",
    "}\n",
    ".rendered_html td, .rendered_html th {\n",
    "    text-align: left;\n",
    "    vertical-align: middle;\n",
    "    padding: 4px;\n",
    "}\n",
    "</style>\n"
   ]
  },
  {
   "cell_type": "markdown",
   "metadata": {},
   "source": [
    "<div class=\"alert alert-info\">\n",
    "\n",
    "**Note:** vaex.ml is under heavy development, consider this document as a sneak preview.\n",
    "\n",
    "</div>"
   ]
  },
  {
   "cell_type": "markdown",
   "metadata": {},
   "source": [
    "# Vaex-ml - Machine Learning\n",
    "The `vaex.ml` package brings some machine learning algorithms to vaex. Install it by running `pip install vaex-ml`.\n",
    "\n",
    "Vaex.ml stays close to the authoritative ML package: scikit-learn. We will first show two examples, KMeans and PCA, to see how they compare and differ, and what the gain is in performance."
   ]
  },
  {
   "cell_type": "code",
   "execution_count": 4,
   "metadata": {},
   "outputs": [],
   "source": [
    "import vaex.ml.cluster\n",
    "import vaex.ml.datasets\n",
    "import numpy as np\n",
    "%matplotlib inline"
   ]
  },
  {
   "cell_type": "markdown",
   "metadata": {},
   "source": [
    "We use the well known [iris flower dataset](https://en.wikipedia.org/wiki/Iris_flower_data_set), a classical for machine learning."
   ]
  },
  {
   "cell_type": "code",
   "execution_count": 6,
   "metadata": {},
   "outputs": [
    {
     "data": {
      "text/plain": [
       "<matplotlib.collections.PathCollection at 0x11fecbdd8>"
      ]
     },
     "execution_count": 6,
     "metadata": {},
     "output_type": "execute_result"
    },
    {
     "data": {
      "image/png": "[encoded data removed]",
      "text/plain": [
       "<Figure size 432x288 with 1 Axes>"
      ]
     },
     "metadata": {},
     "output_type": "display_data"
    }
   ],
   "source": [
    "df = vaex.ml.datasets.load_iris()\n",
    "df.scatter(df.petal_width, df.petal_length, c_expr=df.class_)"
   ]
  },
  {
   "cell_type": "code",
   "execution_count": 8,
   "metadata": {},
   "outputs": [
    {
     "data": {
      "text/html": [
       "<table>\n",
       "<thead>\n",
       "<tr><th>#                              </th><th>sepal_width  </th><th>petal_length  </th><th>sepal_length  </th><th>petal_width  </th><th>class_  </th><th>random_index  </th></tr>\n",
       "</thead>\n",
       "<tbody>\n",
       "<tr><td><i style='opacity: 0.6'>0</i>  </td><td>3.0          </td><td>4.2           </td><td>5.9           </td><td>1.5          </td><td>1       </td><td>114           </td></tr>\n",
       "<tr><td><i style='opacity: 0.6'>1</i>  </td><td>3.0          </td><td>4.6           </td><td>6.1           </td><td>1.4          </td><td>1       </td><td>74            </td></tr>\n",
       "<tr><td><i style='opacity: 0.6'>2</i>  </td><td>2.9          </td><td>4.6           </td><td>6.6           </td><td>1.3          </td><td>1       </td><td>37            </td></tr>\n",
       "<tr><td><i style='opacity: 0.6'>3</i>  </td><td>3.3          </td><td>5.7           </td><td>6.7           </td><td>2.1          </td><td>2       </td><td>116           </td></tr>\n",
       "<tr><td><i style='opacity: 0.6'>4</i>  </td><td>4.2          </td><td>1.4           </td><td>5.5           </td><td>0.2          </td><td>0       </td><td>61            </td></tr>\n",
       "<tr><td>...                            </td><td>...          </td><td>...           </td><td>...           </td><td>...          </td><td>...     </td><td>...           </td></tr>\n",
       "<tr><td><i style='opacity: 0.6'>145</i></td><td>3.4          </td><td>1.4           </td><td>5.2           </td><td>0.2          </td><td>0       </td><td>119           </td></tr>\n",
       "<tr><td><i style='opacity: 0.6'>146</i></td><td>3.8          </td><td>1.6           </td><td>5.1           </td><td>0.2          </td><td>0       </td><td>15            </td></tr>\n",
       "<tr><td><i style='opacity: 0.6'>147</i></td><td>2.6          </td><td>4.0           </td><td>5.8           </td><td>1.2          </td><td>1       </td><td>22            </td></tr>\n",
       "<tr><td><i style='opacity: 0.6'>148</i></td><td>3.8          </td><td>1.7           </td><td>5.7           </td><td>0.3          </td><td>0       </td><td>144           </td></tr>\n",
       "<tr><td><i style='opacity: 0.6'>149</i></td><td>2.9          </td><td>4.3           </td><td>6.2           </td><td>1.3          </td><td>1       </td><td>102           </td></tr>\n",
       "</tbody>\n",
       "</table>"
      ],
      "text/plain": [
       "#    sepal_width    petal_length    sepal_length    petal_width    class_    random_index\n",
       "0    3.0            4.2             5.9             1.5            1         114\n",
       "1    3.0            4.6             6.1             1.4            1         74\n",
       "2    2.9            4.6             6.6             1.3            1         37\n",
       "3    3.3            5.7             6.7             2.1            2         116\n",
       "4    4.2            1.4             5.5             0.2            0         61\n",
       "...  ...            ...             ...             ...            ...       ...\n",
       "145  3.4            1.4             5.2             0.2            0         119\n",
       "146  3.8            1.6             5.1             0.2            0         15\n",
       "147  2.6            4.0             5.8             1.2            1         22\n",
       "148  3.8            1.7             5.7             0.3            0         144\n",
       "149  2.9            4.3             6.2             1.3            1         102"
      ]
     },
     "execution_count": 8,
     "metadata": {},
     "output_type": "execute_result"
    }
   ],
   "source": [
    "df"
   ]
  },
  {
   "cell_type": "markdown",
   "metadata": {},
   "source": [
    "## KMeans\n",
    "We use two features to do a KMeans, and roughly put the two features on the same scale by a simple division. We then construct a KMeans object, quite similar to what you would do in [sklearn](http://scikit-learn.org/stable/modules/generated/sklearn.cluster.KMeans.html), and fit it."
   ]
  },
  {
   "cell_type": "code",
   "execution_count": 10,
   "metadata": {},
   "outputs": [
    {
     "name": "stdout",
     "output_type": "stream",
     "text": [
      "Iteration    0, inertia  6.2609999999999975\n",
      "Iteration    1, inertia  2.5062184444444435\n",
      "Iteration    2, inertia  2.443455900151798\n",
      "Iteration    3, inertia  2.418136327962199\n",
      "Iteration    4, inertia  2.4161501474358995\n",
      "Iteration    5, inertia  2.4161501474358995\n"
     ]
    }
   ],
   "source": [
    "features = ['petal_width/2', 'petal_length/5']\n",
    "init = [[0, 1/5], [1.2/2, 4/5], [2.5/2, 6/5]] # \n",
    "kmeans = vaex.ml.cluster.KMeans(features=features, init=init, verbose=True)\n",
    "kmeans.fit(df)"
   ]
  },
  {
   "cell_type": "markdown",
   "metadata": {},
   "source": [
    "We now transform the original DataFrame, similar to sklearn. However, we now end up with a new DataFrame, which contains an extra column (prediction_kmeans)."
   ]
  },
  {
   "cell_type": "code",
   "execution_count": 11,
   "metadata": {},
   "outputs": [
    {
     "data": {
      "text/html": [
       "<table>\n",
       "<thead>\n",
       "<tr><th>#                              </th><th>sepal_width  </th><th>petal_length  </th><th>sepal_length  </th><th>petal_width  </th><th>class_  </th><th>random_index  </th><th>prediction_kmeans  </th></tr>\n",
       "</thead>\n",
       "<tbody>\n",
       "<tr><td><i style='opacity: 0.6'>0</i>  </td><td>3.0          </td><td>4.2           </td><td>5.9           </td><td>1.5          </td><td>1       </td><td>114           </td><td>1                  </td></tr>\n",
       "<tr><td><i style='opacity: 0.6'>1</i>  </td><td>3.0          </td><td>4.6           </td><td>6.1           </td><td>1.4          </td><td>1       </td><td>74            </td><td>1                  </td></tr>\n",
       "<tr><td><i style='opacity: 0.6'>2</i>  </td><td>2.9          </td><td>4.6           </td><td>6.6           </td><td>1.3          </td><td>1       </td><td>37            </td><td>1                  </td></tr>\n",
       "<tr><td><i style='opacity: 0.6'>3</i>  </td><td>3.3          </td><td>5.7           </td><td>6.7           </td><td>2.1          </td><td>2       </td><td>116           </td><td>2                  </td></tr>\n",
       "<tr><td><i style='opacity: 0.6'>4</i>  </td><td>4.2          </td><td>1.4           </td><td>5.5           </td><td>0.2          </td><td>0       </td><td>61            </td><td>0                  </td></tr>\n",
       "<tr><td>...                            </td><td>...          </td><td>...           </td><td>...           </td><td>...          </td><td>...     </td><td>...           </td><td>...                </td></tr>\n",
       "<tr><td><i style='opacity: 0.6'>145</i></td><td>3.4          </td><td>1.4           </td><td>5.2           </td><td>0.2          </td><td>0       </td><td>119           </td><td>0                  </td></tr>\n",
       "<tr><td><i style='opacity: 0.6'>146</i></td><td>3.8          </td><td>1.6           </td><td>5.1           </td><td>0.2          </td><td>0       </td><td>15            </td><td>0                  </td></tr>\n",
       "<tr><td><i style='opacity: 0.6'>147</i></td><td>2.6          </td><td>4.0           </td><td>5.8           </td><td>1.2          </td><td>1       </td><td>22            </td><td>1                  </td></tr>\n",
       "<tr><td><i style='opacity: 0.6'>148</i></td><td>3.8          </td><td>1.7           </td><td>5.7           </td><td>0.3          </td><td>0       </td><td>144           </td><td>0                  </td></tr>\n",
       "<tr><td><i style='opacity: 0.6'>149</i></td><td>2.9          </td><td>4.3           </td><td>6.2           </td><td>1.3          </td><td>1       </td><td>102           </td><td>1                  </td></tr>\n",
       "</tbody>\n",
       "</table>"
      ],
      "text/plain": [
       "#    sepal_width    petal_length    sepal_length    petal_width    class_    random_index    prediction_kmeans\n",
       "0    3.0            4.2             5.9             1.5            1         114             1\n",
       "1    3.0            4.6             6.1             1.4            1         74              1\n",
       "2    2.9            4.6             6.6             1.3            1         37              1\n",
       "3    3.3            5.7             6.7             2.1            2         116             2\n",
       "4    4.2            1.4             5.5             0.2            0         61              0\n",
       "...  ...            ...             ...             ...            ...       ...             ...\n",
       "145  3.4            1.4             5.2             0.2            0         119             0\n",
       "146  3.8            1.6             5.1             0.2            0         15              0\n",
       "147  2.6            4.0             5.8             1.2            1         22              1\n",
       "148  3.8            1.7             5.7             0.3            0         144             0\n",
       "149  2.9            4.3             6.2             1.3            1         102             1"
      ]
     },
     "execution_count": 11,
     "metadata": {},
     "output_type": "execute_result"
    }
   ],
   "source": [
    "df_predict = kmeans.transform(df)\n",
    "df_predict"
   ]
  },
  {
   "cell_type": "markdown",
   "metadata": {},
   "source": [
    "Although this column is special, it is actually a virtual column, it does not use up any memory and will be computed on the fly when needed, saving us precious ram. Note that the other columns reference the original data as well, so this new DataFrame (ds_predict) almost takes up no memory at all, which is ideal for very large datasets, and quite different from what sklearn will do."
   ]
  },
  {
   "cell_type": "code",
   "execution_count": 12,
   "metadata": {},
   "outputs": [
    {
     "data": {
      "text/plain": [
       "'kmean_predict_function(petal_width/2, petal_length/5)'"
      ]
     },
     "execution_count": 12,
     "metadata": {},
     "output_type": "execute_result"
    }
   ],
   "source": [
    "df_predict.virtual_columns['prediction_kmeans']"
   ]
  },
  {
   "cell_type": "markdown",
   "metadata": {},
   "source": [
    "By making a simple scatter plot we can see the KMeans does a pretty good job."
   ]
  },
  {
   "cell_type": "code",
   "execution_count": 16,
   "metadata": {},
   "outputs": [
    {
     "data": {
      "text/plain": [
       "<matplotlib.collections.PathCollection at 0x12333eeb8>"
      ]
     },
     "execution_count": 16,
     "metadata": {},
     "output_type": "execute_result"
    },
    {
     "data": {
      "image/png": "[encoded data removed]",
      "text/plain": [
       "<Figure size 864x360 with 2 Axes>"
      ]
     },
     "metadata": {},
     "output_type": "display_data"
    }
   ],
   "source": [
    "import matplotlib.pylab as plt\n",
    "fig, ax = plt.subplots(1, 2, figsize=(12,5))\n",
    "\n",
    "plt.sca(ax[0])\n",
    "plt.title('original classes')\n",
    "df.scatter(df.petal_width, df.petal_length, c_expr=df.class_)\n",
    "\n",
    "plt.sca(ax[1])\n",
    "plt.title('predicted classes')\n",
    "df_predict.scatter(df_predict.petal_width, df_predict.petal_length, c_expr=df_predict.prediction_kmeans)"
   ]
  },
  {
   "cell_type": "markdown",
   "metadata": {},
   "source": [
    "## KMeans benchmark\n",
    "To demonstrate the performance and scaling of vaex, we continue with a special version of the iris dataset that has $\\sim10^7$ rows, by repeating the rows many times."
   ]
  },
  {
   "cell_type": "code",
   "execution_count": 28,
   "metadata": {},
   "outputs": [],
   "source": [
    "df = vaex.ml.datasets.load_iris_1e7()"
   ]
  },
  {
   "cell_type": "markdown",
   "metadata": {},
   "source": [
    "We now use random initial conditions, and execute 10 runs in parallel (n_init), for a maximum of 5 iterations and benchmark it."
   ]
  },
  {
   "cell_type": "code",
   "execution_count": 29,
   "metadata": {},
   "outputs": [],
   "source": [
    "features = ['petal_width/2', 'petal_length/5']\n",
    "kmeans = vaex.ml.cluster.KMeans(features=features, n_clusters=3, init='random', random_state=1,\n",
    "                                max_iter=5, verbose=True, n_init=10)"
   ]
  },
  {
   "cell_type": "code",
   "execution_count": 30,
   "metadata": {},
   "outputs": [
    {
     "name": "stdout",
     "output_type": "stream",
     "text": [
      "Iteration    0, inertia  1784973.7999986452 |  1548329.799999016 |  354711.39999875583 |  434173.39999885217 |  1005871.0000026902 |  1312114.6000003854 |  1989377.3999927905 |  577104.4999989534 |  2747388.6000027955 |  628486.7999971791\n",
      "Iteration    1, inertia  481645.0225601919 |  233311.807648651 |  214794.26525253727 |  175205.9965848818 |  490218.5413715277 |  816598.0811733825 |  285786.2566865457 |  456305.0601529535 |  1205488.9851008556 |  262443.28449456714\n",
      "Iteration    2, inertia  458443.873920266 |  162015.13397359708 |  173081.69460305249 |  162580.06671935317 |  488402.97447322187 |  436698.8939923954 |  162626.5498899455 |  394680.5108569788 |  850103.6561417003 |  198213.0961053151\n",
      "Iteration    3, inertia  394680.5108569788 |  161882.05987810466 |  162580.0667193532 |  161882.05987810466 |  487435.98983613256 |  214098.28159484005 |  161882.05987810466 |  275282.3731570135 |  594451.8937940609 |  169525.19719336918\n",
      "Iteration    4, inertia  275282.3731570135 |  161882.05987810463 |  161882.05987810463 |  161882.05987810463 |  486000.83124050766 |  169097.2713565477 |  161882.05987810463 |  201144.2611065195 |  512055.1808623869 |  162023.37977993558\n",
      "3.98 s ± 0 ns per loop (mean ± std. dev. of 1 run, 1 loop each)\n"
     ]
    },
    {
     "data": {
      "text/plain": [
       "<TimeitResult : 3.98 s ± 0 ns per loop (mean ± std. dev. of 1 run, 1 loop each)>"
      ]
     },
     "execution_count": 30,
     "metadata": {},
     "output_type": "execute_result"
    }
   ],
   "source": [
    "%%timeit -n1 -r1 -o\n",
    "kmeans.fit(df)"
   ]
  },
  {
   "cell_type": "code",
   "execution_count": 31,
   "metadata": {},
   "outputs": [],
   "source": [
    "time_vaex = _"
   ]
  },
  {
   "cell_type": "markdown",
   "metadata": {},
   "source": [
    "We now do the same using sklearn."
   ]
  },
  {
   "cell_type": "code",
   "execution_count": 32,
   "metadata": {},
   "outputs": [],
   "source": [
    "from sklearn.cluster import KMeans\n",
    "kmeans_sk = kmeans = KMeans(n_clusters=3, init='random', max_iter=5, verbose=True, algorithm='full', n_jobs=-1,\n",
    "                           precompute_distances=False, n_init=10)\n",
    "# Doing an unfortunate memory copy\n",
    "X = np.array(df[features])"
   ]
  },
  {
   "cell_type": "code",
   "execution_count": 33,
   "metadata": {},
   "outputs": [
    {
     "name": "stdout",
     "output_type": "stream",
     "text": [
      "Initialization complete\n",
      "Iteration  0, inertia 538264.600\n",
      "Iteration  1, inertia 488488.457\n",
      "Iteration  2, inertia 477825.973\n",
      "Iteration  3, inertia 458443.874\n",
      "Iteration  4, inertia 394680.511\n",
      "Initialization complete\n",
      "Iteration  0, inertia 1478542.600\n",
      "Iteration  1, inertia 488488.457\n",
      "Iteration  2, inertia 477825.973\n",
      "Iteration  3, inertia 458443.874\n",
      "Iteration  4, inertia 394680.511\n",
      "Initialization complete\n",
      "Iteration  0, inertia 422756.600\n",
      "Iteration  1, inertia 182182.175\n",
      "Iteration  2, inertia 164120.408\n",
      "Iteration  3, inertia 162023.380\n",
      "Iteration  4, inertia 161882.060\n",
      "Converged at iteration 4: center shift 0.000000e+00 within tolerance 1.341649e-05\n",
      "Initialization complete\n",
      "Iteration  0, inertia 1873065.400\n",
      "Iteration  1, inertia 260752.951\n",
      "Iteration  2, inertia 161882.060\n",
      "Converged at iteration 2: center shift 0.000000e+00 within tolerance 1.341649e-05\n",
      "Initialization complete\n",
      "Iteration  0, inertia 808489.000\n",
      "Iteration  1, inertia 275282.373\n",
      "Iteration  2, inertia 201144.261\n",
      "Iteration  3, inertia 171177.750\n",
      "Iteration  4, inertia 162580.067\n",
      "Initialization complete\n",
      "Iteration  0, inertia 3983719.500\n",
      "Iteration  1, inertia 1112312.157\n",
      "Iteration  2, inertia 550309.867\n",
      "Iteration  3, inertia 261374.998\n",
      "Iteration  4, inertia 178472.171\n",
      "Initialization complete\n",
      "Iteration  0, inertia 952003.000\n",
      "Iteration  1, inertia 367032.453\n",
      "Iteration  2, inertia 212341.557\n",
      "Iteration  3, inertia 174578.392\n",
      "Iteration  4, inertia 165938.240\n",
      "Initialization complete\n",
      "Iteration  0, inertia 635682.600\n",
      "Iteration  1, inertia 448595.010\n",
      "Iteration  2, inertia 382619.025\n",
      "Iteration  3, inertia 275282.373\n",
      "Iteration  4, inertia 201144.261\n",
      "Initialization complete\n",
      "Iteration  0, inertia 950998.000\n",
      "Iteration  1, inertia 490981.793\n",
      "Iteration  2, inertia 490578.465\n",
      "Iteration  3, inertia 489369.579\n",
      "Iteration  4, inertia 488391.841\n",
      "Initialization complete\n",
      "Iteration  0, inertia 1329668.600\n",
      "Iteration  1, inertia 353015.441\n",
      "Iteration  2, inertia 168858.217\n",
      "Iteration  3, inertia 162015.134\n",
      "Iteration  4, inertia 161882.060\n",
      "Converged at iteration 4: center shift 0.000000e+00 within tolerance 1.341649e-05\n",
      "46.8 s ± 0 ns per loop (mean ± std. dev. of 1 run, 1 loop each)\n"
     ]
    },
    {
     "data": {
      "text/plain": [
       "<TimeitResult : 46.8 s ± 0 ns per loop (mean ± std. dev. of 1 run, 1 loop each)>"
      ]
     },
     "execution_count": 33,
     "metadata": {},
     "output_type": "execute_result"
    }
   ],
   "source": [
    "%%timeit -n1 -r1 -o\n",
    "kmeans_sk.fit(X)"
   ]
  },
  {
   "cell_type": "code",
   "execution_count": 34,
   "metadata": {},
   "outputs": [],
   "source": [
    "time_sklearn = _"
   ]
  },
  {
   "cell_type": "markdown",
   "metadata": {},
   "source": [
    "We see that vaex is quite fast:"
   ]
  },
  {
   "cell_type": "code",
   "execution_count": 35,
   "metadata": {},
   "outputs": [
    {
     "name": "stdout",
     "output_type": "stream",
     "text": [
      "vaex is approx 11.77461207454833 times faster for KMeans\n"
     ]
    }
   ],
   "source": [
    "print('vaex is approx', time_sklearn.best / time_vaex.best, 'times faster for KMeans')"
   ]
  },
  {
   "cell_type": "markdown",
   "metadata": {},
   "source": [
    "But also, sklean will need to copy the data, while vaex will be very careful not to do unnecessary copies, and minimal amounts of passes of the data (Out-of-core). Therefore vaex will happily scale to massive datasets, while with sklearn you will be limited to the size of the RAM."
   ]
  },
  {
   "cell_type": "markdown",
   "metadata": {},
   "source": [
    "## PCA Benchmark\n",
    "We now continue with benchmarking a PCA on 4 features:"
   ]
  },
  {
   "cell_type": "code",
   "execution_count": 36,
   "metadata": {},
   "outputs": [],
   "source": [
    "features = [k.expression for k in [df.col.petal_width, df.col.petal_length, df.col.sepal_width, df.col.sepal_length]]\n",
    "pca = df.ml.pca(features=features)"
   ]
  },
  {
   "cell_type": "code",
   "execution_count": 37,
   "metadata": {},
   "outputs": [
    {
     "name": "stdout",
     "output_type": "stream",
     "text": [
      "226 ms ± 30.6 ms per loop (mean ± std. dev. of 3 runs, 1 loop each)\n"
     ]
    },
    {
     "data": {
      "text/plain": [
       "<TimeitResult : 226 ms ± 30.6 ms per loop (mean ± std. dev. of 3 runs, 1 loop each)>"
      ]
     },
     "execution_count": 37,
     "metadata": {},
     "output_type": "execute_result"
    }
   ],
   "source": [
    "%%timeit -n1 -r3 -o\n",
    "pca = df.ml.pca(features=features)"
   ]
  },
  {
   "cell_type": "code",
   "execution_count": 38,
   "metadata": {},
   "outputs": [],
   "source": [
    "time_vaex = _"
   ]
  },
  {
   "cell_type": "markdown",
   "metadata": {},
   "source": [
    "Since sklearn takes too much memory with this dataset, we only use 10% for sklearn, and correct later."
   ]
  },
  {
   "cell_type": "code",
   "execution_count": 40,
   "metadata": {},
   "outputs": [
    {
     "data": {
      "text/plain": [
       "1005000"
      ]
     },
     "execution_count": 40,
     "metadata": {},
     "output_type": "execute_result"
    }
   ],
   "source": [
    "# on my laptop this takes too much memory with sklearn, use only a subset\n",
    "factor = 0.1\n",
    "df.set_active_fraction(factor)\n",
    "len(df)"
   ]
  },
  {
   "cell_type": "code",
   "execution_count": 41,
   "metadata": {},
   "outputs": [],
   "source": [
    "from sklearn.decomposition import PCA\n",
    "pca_sk = PCA(n_components=2, random_state=33, svd_solver='full', whiten=False)\n",
    "X = np.array(df.trim()[features])"
   ]
  },
  {
   "cell_type": "code",
   "execution_count": 42,
   "metadata": {},
   "outputs": [
    {
     "name": "stdout",
     "output_type": "stream",
     "text": [
      "130 ms ± 25 ms per loop (mean ± std. dev. of 3 runs, 1 loop each)\n"
     ]
    },
    {
     "data": {
      "text/plain": [
       "<TimeitResult : 130 ms ± 25 ms per loop (mean ± std. dev. of 3 runs, 1 loop each)>"
      ]
     },
     "execution_count": 42,
     "metadata": {},
     "output_type": "execute_result"
    }
   ],
   "source": [
    "%%timeit -n1 -r3 -o\n",
    "pca_sk.fit(X)"
   ]
  },
  {
   "cell_type": "code",
   "execution_count": 43,
   "metadata": {},
   "outputs": [],
   "source": [
    "time_sklearn = _"
   ]
  },
  {
   "cell_type": "code",
   "execution_count": 44,
   "metadata": {},
   "outputs": [
    {
     "name": "stdout",
     "output_type": "stream",
     "text": [
      "vaex is approx 5.4043995278391295 times faster for a PCA\n"
     ]
    }
   ],
   "source": [
    "print('vaex is approx', time_sklearn.best / time_vaex.best / factor, 'times faster for a PCA')"
   ]
  },
  {
   "cell_type": "markdown",
   "metadata": {},
   "source": [
    "Again we see that vaex not only will outperform sklearn, but more importantly it will scale to much larger datasets.\n",
    "\n",
    "## A billion row PCA\n",
    "We now run a PCA on **a billion rows**."
   ]
  },
  {
   "cell_type": "code",
   "execution_count": 51,
   "metadata": {},
   "outputs": [],
   "source": [
    "df_big = vaex.ml.datasets.load_iris_1e9()"
   ]
  },
  {
   "cell_type": "code",
   "execution_count": 52,
   "metadata": {},
   "outputs": [
    {
     "name": "stdout",
     "output_type": "stream",
     "text": [
      "3min 9s ± 20.5 s per loop (mean ± std. dev. of 2 runs, 1 loop each)\n"
     ]
    },
    {
     "data": {
      "text/plain": [
       "<TimeitResult : 3min 9s ± 20.5 s per loop (mean ± std. dev. of 2 runs, 1 loop each)>"
      ]
     },
     "execution_count": 52,
     "metadata": {},
     "output_type": "execute_result"
    }
   ],
   "source": [
    "%%timeit -n1 -r2 -o\n",
    "pca = df_big.ml.pca(features=features)"
   ]
  },
  {
   "cell_type": "markdown",
   "metadata": {},
   "source": [
    "Note the although this dataset is $10\\times$ larger, it takes more than $10\\times$ to execute. This is because this dataset did not fit into memory this time, and is limited to the harddrive speed. But note that it *possible* to actually run it, instead of giving a MemoryError!"
   ]
  },
  {
   "cell_type": "markdown",
   "metadata": {},
   "source": [
    "## XGBoost\n",
    "This example shows integration with xgboost, this is work in progress."
   ]
  },
  {
   "cell_type": "code",
   "execution_count": 3,
   "metadata": {},
   "outputs": [
   ],
   "source": [
    "import vaex.ml.xgboost"
   ]
  },
  {
   "cell_type": "code",
   "execution_count": 4,
   "metadata": {},
   "outputs": [],
   "source": [
    "df = vaex.ml.datasets.load_iris()"
   ]
  },
  {
   "cell_type": "code",
   "execution_count": 5,
   "metadata": {},
   "outputs": [],
   "source": [
    "features = [k.expression for k in [df.col.petal_width, df.col.petal_length, df.col.sepal_width, df.col.sepal_length]]"
   ]
  },
  {
   "cell_type": "code",
   "execution_count": 6,
   "metadata": {},
   "outputs": [
   ],
   "source": [
    "df_train, df_test = df.ml.train_test_split()"
   ]
  },
  {
   "cell_type": "code",
   "execution_count": 7,
   "metadata": {},
   "outputs": [],
   "source": [
    "param = {\n",
    "    'max_depth': 3,  # the maximum depth of each tree\n",
    "    'eta': 0.3,  # the training step for each iteration\n",
    "    'silent': 1,  # logging mode - quiet\n",
    "    'objective': 'multi:softmax',  # error evaluation for multiclass training\n",
    "    'num_class': 3}  # the number of classes that exist in this datset\n",
    "xgmodel = vaex.ml.xgboost.XGBModel(features=features, num_round=10, param=param)"
   ]
  },
  {
   "cell_type": "code",
   "execution_count": 8,
   "metadata": {},
   "outputs": [],
   "source": [
    "xgmodel.fit(df_train, df_train.class_, copy=True)"
   ]
  },
  {
   "cell_type": "code",
   "execution_count": 10,
   "metadata": {},
   "outputs": [
    {
     "data": {
      "text/html": [
       "<table>\n",
       "<thead>\n",
       "<tr><th>#                             </th><th>sepal_width  </th><th>petal_length  </th><th>sepal_length  </th><th>petal_width  </th><th>class_  </th><th>random_index  </th><th>xgboost_prediction  </th></tr>\n",
       "</thead>\n",
       "<tbody>\n",
       "<tr><td><i style='opacity: 0.6'>0</i> </td><td>3.0          </td><td>4.2           </td><td>5.9           </td><td>1.5          </td><td>1       </td><td>114           </td><td>1.0                 </td></tr>\n",
       "<tr><td><i style='opacity: 0.6'>1</i> </td><td>3.0          </td><td>4.6           </td><td>6.1           </td><td>1.4          </td><td>1       </td><td>74            </td><td>1.0                 </td></tr>\n",
       "<tr><td><i style='opacity: 0.6'>2</i> </td><td>2.9          </td><td>4.6           </td><td>6.6           </td><td>1.3          </td><td>1       </td><td>37            </td><td>1.0                 </td></tr>\n",
       "<tr><td><i style='opacity: 0.6'>3</i> </td><td>3.3          </td><td>5.7           </td><td>6.7           </td><td>2.1          </td><td>2       </td><td>116           </td><td>2.0                 </td></tr>\n",
       "<tr><td><i style='opacity: 0.6'>4</i> </td><td>4.2          </td><td>1.4           </td><td>5.5           </td><td>0.2          </td><td>0       </td><td>61            </td><td>0.0                 </td></tr>\n",
       "<tr><td>...                           </td><td>...          </td><td>...           </td><td>...           </td><td>...          </td><td>...     </td><td>...           </td><td>...                 </td></tr>\n",
       "<tr><td><i style='opacity: 0.6'>25</i></td><td>2.5          </td><td>4.0           </td><td>5.5           </td><td>1.3          </td><td>1       </td><td>83            </td><td>1.0                 </td></tr>\n",
       "<tr><td><i style='opacity: 0.6'>26</i></td><td>2.7          </td><td>3.9           </td><td>5.8           </td><td>1.2          </td><td>1       </td><td>94            </td><td>1.0                 </td></tr>\n",
       "<tr><td><i style='opacity: 0.6'>27</i></td><td>2.9          </td><td>1.4           </td><td>4.4           </td><td>0.2          </td><td>0       </td><td>54            </td><td>0.0                 </td></tr>\n",
       "<tr><td><i style='opacity: 0.6'>28</i></td><td>2.3          </td><td>1.3           </td><td>4.5           </td><td>0.3          </td><td>0       </td><td>145           </td><td>0.0                 </td></tr>\n",
       "<tr><td><i style='opacity: 0.6'>29</i></td><td>3.2          </td><td>5.7           </td><td>6.9           </td><td>2.3          </td><td>2       </td><td>84            </td><td>2.0                 </td></tr>\n",
       "</tbody>\n",
       "</table>"
      ],
      "text/plain": [
       "#    sepal_width    petal_length    sepal_length    petal_width    class_    random_index    xgboost_prediction\n",
       "0    3.0            4.2             5.9             1.5            1         114             1.0\n",
       "1    3.0            4.6             6.1             1.4            1         74              1.0\n",
       "2    2.9            4.6             6.6             1.3            1         37              1.0\n",
       "3    3.3            5.7             6.7             2.1            2         116             2.0\n",
       "4    4.2            1.4             5.5             0.2            0         61              0.0\n",
       "...  ...            ...             ...             ...            ...       ...             ...\n",
       "25   2.5            4.0             5.5             1.3            1         83              1.0\n",
       "26   2.7            3.9             5.8             1.2            1         94              1.0\n",
       "27   2.9            1.4             4.4             0.2            0         54              0.0\n",
       "28   2.3            1.3             4.5             0.3            0         145             0.0\n",
       "29   3.2            5.7             6.9             2.3            2         84              2.0"
      ]
     },
     "execution_count": 10,
     "metadata": {},
     "output_type": "execute_result"
    }
   ],
   "source": [
    "df_predict = xgmodel.transform(df_test)\n",
    "df_predict"
   ]
  },
  {
   "cell_type": "code",
   "execution_count": 12,
   "metadata": {},
   "outputs": [
    {
     "data": {
      "text/plain": [
       "<matplotlib.collections.PathCollection at 0x1185c9a58>"
      ]
     },
     "execution_count": 12,
     "metadata": {},
     "output_type": "execute_result"
    },
    {
     "data": {
      "image/png": "[encoded data removed]",
      "text/plain": [
       "<Figure size 864x360 with 2 Axes>"
      ]
     },
     "metadata": {},
     "output_type": "display_data"
    }
   ],
   "source": [
    "import matplotlib.pylab as plt\n",
    "fig, ax = plt.subplots(1, 2, figsize=(12,5))\n",
    "\n",
    "plt.sca(ax[0])\n",
    "plt.title('original classes')\n",
    "df_predict.scatter(df_predict.petal_width, df_predict.petal_length, c_expr=df_predict.class_)\n",
    "\n",
    "plt.sca(ax[1])\n",
    "plt.title('predicted classes')\n",
    "df_predict.scatter(df_predict.petal_width, df_predict.petal_length, c_expr=df_predict.xgboost_prediction)"
   ]
  },
  {
   "cell_type": "markdown",
   "metadata": {},
   "source": [
    "## One hot encoding\n",
    "Shortly showing one hot encoding"
   ]
  },
  {
   "cell_type": "code",
   "execution_count": 27,
   "metadata": {},
   "outputs": [],
   "source": [
    "encoder = df.ml_one_hot_encoder([df.col.class_])\n",
    "df_encoded = encoder.transform(df)"
   ]
  },
  {
   "cell_type": "code",
   "execution_count": 28,
   "metadata": {},
   "outputs": [
    {
     "data": {
      "text/html": [
       "<table>\n",
       "<thead>\n",
       "<tr><th>#                              </th><th>sepal_width  </th><th>petal_length  </th><th>sepal_length  </th><th>petal_width  </th><th>class_  </th><th>random_index  </th><th>class__0  </th><th>class__1  </th><th>class__2  </th></tr>\n",
       "</thead>\n",
       "<tbody>\n",
       "<tr><td><i style='opacity: 0.6'>0</i>  </td><td>3.0          </td><td>4.2           </td><td>5.9           </td><td>1.5          </td><td>1       </td><td>114           </td><td>0         </td><td>1         </td><td>0         </td></tr>\n",
       "<tr><td><i style='opacity: 0.6'>1</i>  </td><td>3.0          </td><td>4.6           </td><td>6.1           </td><td>1.4          </td><td>1       </td><td>74            </td><td>0         </td><td>1         </td><td>0         </td></tr>\n",
       "<tr><td><i style='opacity: 0.6'>2</i>  </td><td>2.9          </td><td>4.6           </td><td>6.6           </td><td>1.3          </td><td>1       </td><td>37            </td><td>0         </td><td>1         </td><td>0         </td></tr>\n",
       "<tr><td><i style='opacity: 0.6'>3</i>  </td><td>3.3          </td><td>5.7           </td><td>6.7           </td><td>2.1          </td><td>2       </td><td>116           </td><td>0         </td><td>0         </td><td>1         </td></tr>\n",
       "<tr><td><i style='opacity: 0.6'>4</i>  </td><td>4.2          </td><td>1.4           </td><td>5.5           </td><td>0.2          </td><td>0       </td><td>61            </td><td>1         </td><td>0         </td><td>0         </td></tr>\n",
       "<tr><td>...                            </td><td>...          </td><td>...           </td><td>...           </td><td>...          </td><td>...     </td><td>...           </td><td>...       </td><td>...       </td><td>...       </td></tr>\n",
       "<tr><td><i style='opacity: 0.6'>145</i></td><td>3.4          </td><td>1.4           </td><td>5.2           </td><td>0.2          </td><td>0       </td><td>119           </td><td>1         </td><td>0         </td><td>0         </td></tr>\n",
       "<tr><td><i style='opacity: 0.6'>146</i></td><td>3.8          </td><td>1.6           </td><td>5.1           </td><td>0.2          </td><td>0       </td><td>15            </td><td>1         </td><td>0         </td><td>0         </td></tr>\n",
       "<tr><td><i style='opacity: 0.6'>147</i></td><td>2.6          </td><td>4.0           </td><td>5.8           </td><td>1.2          </td><td>1       </td><td>22            </td><td>0         </td><td>1         </td><td>0         </td></tr>\n",
       "<tr><td><i style='opacity: 0.6'>148</i></td><td>3.8          </td><td>1.7           </td><td>5.7           </td><td>0.3          </td><td>0       </td><td>144           </td><td>1         </td><td>0         </td><td>0         </td></tr>\n",
       "<tr><td><i style='opacity: 0.6'>149</i></td><td>2.9          </td><td>4.3           </td><td>6.2           </td><td>1.3          </td><td>1       </td><td>102           </td><td>0         </td><td>1         </td><td>0         </td></tr>\n",
       "</tbody>\n",
       "</table>"
      ],
      "text/plain": [
       "#    sepal_width    petal_length    sepal_length    petal_width    class_    random_index    class__0    class__1    class__2\n",
       "0    3.0            4.2             5.9             1.5            1         114             0           1           0\n",
       "1    3.0            4.6             6.1             1.4            1         74              0           1           0\n",
       "2    2.9            4.6             6.6             1.3            1         37              0           1           0\n",
       "3    3.3            5.7             6.7             2.1            2         116             0           0           1\n",
       "4    4.2            1.4             5.5             0.2            0         61              1           0           0\n",
       "...  ...            ...             ...             ...            ...       ...             ...         ...         ...\n",
       "145  3.4            1.4             5.2             0.2            0         119             1           0           0\n",
       "146  3.8            1.6             5.1             0.2            0         15              1           0           0\n",
       "147  2.6            4.0             5.8             1.2            1         22              0           1           0\n",
       "148  3.8            1.7             5.7             0.3            0         144             1           0           0\n",
       "149  2.9            4.3             6.2             1.3            1         102             0           1           0"
      ]
     },
     "execution_count": 28,
     "metadata": {},
     "output_type": "execute_result"
    }
   ],
   "source": [
    "df_encoded"
   ]
  },
  {
   "cell_type": "code",
   "execution_count": null,
   "metadata": {},
   "outputs": [],
   "source": []
  }
 ],
 "metadata": {
  "celltoolbar": "Raw Cell Format",
  "kernelspec": {
   "display_name": "Python 3",
   "language": "python",
   "name": "python3"
  },
  "language_info": {
   "codemirror_mode": {
    "name": "ipython",
    "version": 3
   },
   "file_extension": ".py",
   "mimetype": "text/x-python",
   "name": "python",
   "nbconvert_exporter": "python",
   "pygments_lexer": "ipython3",
   "version": "3.6.4"
  }
 },
 "nbformat": 4,
 "nbformat_minor": 2
}
