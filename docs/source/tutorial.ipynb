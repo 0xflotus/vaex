{
 "cells": [
  {
   "cell_type": "markdown",
   "metadata": {
    "deletable": true,
    "editable": true
   },
   "source": [
    "# Vaex tutorial\n",
    "## Dataset\n",
    "Central to vaex is the dataset (similar, but not to be confused with a pandas dataframe, hence a different name), and we often use the variables `ds` to represent it. A dataset is an efficient representation for large tabular data, and has:\n",
    "\n",
    " * A bunch of columns, say `x`, `y` and `z`\n",
    "   * Backed by a numpy array, e.g. `ds.data.x` (but you shouldn't work with this)\n",
    "   * Wrapped by an expression system, e.g. `ds.x`, `ds['x']` or `ds.col.x` is an expression\n",
    "   * Columns/expression can perform lazy computations, e.g. `ds.x * np.sin(ds.y)` does nothing, until the result is needed\n",
    " * A set of virtual columns, columns that are backed by a (lazy) computation, e.g. `ds['r'] = ds.x/ds.y` \n",
    " * A set of selection, that can be used to explore the dataset, e.g. `ds.select(ds.x < 0)`\n",
    " * A special selection (called a filter) that is always present, `ds_negative = ds[ds.x < 0]`\n",
    " \n",
    "Lets start with an example dataset, included in vaex"
   ]
  },
  {
   "cell_type": "code",
   "execution_count": 1,
   "metadata": {
    "collapsed": false,
    "deletable": true,
    "editable": true
   },
   "outputs": [
    {
     "data": {
      "text/html": [
       "<style>.vaex-description pre {\n",
       "\t\t  max-width : 450px;\n",
       "\t\t  white-space : nowrap;\n",
       "\t\t  overflow : hidden;\n",
       "\t\t  text-overflow: ellipsis;\n",
       "\t\t}\n",
       "\n",
       "\t\t.vex-description pre:hover {\n",
       "\t\t  max-width : initial;\n",
       "\t\t  white-space: pre;\n",
       "\t\t}</style>"
      ],
      "text/plain": [
       "<IPython.core.display.HTML object>"
      ]
     },
     "metadata": {},
     "output_type": "display_data"
    },
    {
     "data": {
      "text/html": [
       "<table class='table-striped'><thead><tr><th>#</th><th>E</th><th>FeH</th><th>L</th><th>Lz</th><th>random_index</th><th>vx</th><th>vy</th><th>vz</th><th>x</th><th>y</th><th>z</th><th>distance</th><th>l</th><th>b</th><th>bla</th></tr></thead><tr><td><i style='opacity: 0.6'>0</i></td><td>-121238.171875</td><td>-2.3092276091645179</td><td>831.0799560546875</td><td>-336.426513671875</td><td>1511648</td><td>53.276721999999999</td><td>288.38604700000002</td><td>-95.264907800000003</td><td>-0.77747076699999995</td><td>2.1062629199999998</td><td>1.93743467</td><td>2.9655450396553587</td><td>110.26027963091546</td><td>40.79199758831917</td><td>-41.421093916585768</td></tr><tr><td><i style='opacity: 0.6'>1</i></td><td>-100819.9140625</td><td>-1.788735491591229</td><td>1435.1839599609375</td><td>-828.75677490234375</td><td>2728665</td><td>252.81079099999999</td><td>-69.949844400000003</td><td>-56.312103299999997</td><td>3.7742731599999999</td><td>2.2338719399999998</td><td>3.76209331</td><td>5.7782928104901803</td><td>30.619936937211357</td><td>40.62258796700165</td><td>954.17698302966949</td></tr><tr><td><i style='opacity: 0.6'>2</i></td><td>-100559.9609375</td><td>-0.76181090224787984</td><td>1039.2989501953125</td><td>920.802490234375</td><td>1202632</td><td>96.276473999999993</td><td>226.440201</td><td>-34.752716100000001</td><td>1.3757626999999999</td><td>-6.3283844</td><td>2.6325001700000001</td><td>6.9907960395025599</td><td>-77.734993189858727</td><td>22.121170309008857</td><td>132.45358181671978</td></tr><tr><td><i style='opacity: 0.6'>3</i></td><td>-70174.8515625</td><td>-1.5208778422936413</td><td>2441.724853515625</td><td>1183.5899658203125</td><td>1020502</td><td>204.968842</td><td>-205.67901599999999</td><td>-58.977703099999999</td><td>-7.0673780400000004</td><td>1.31737781</td><td>-6.1054353700000004</td><td>9.4318427527075368</td><td>169.44109642362969</td><td>-40.339963694159181</td><td>-1448.5922928350296</td></tr><tr><td><i style='opacity: 0.6'>4</i></td><td>-144138.75</td><td>-2.6553413584273611</td><td>374.81643676757812</td><td>-314.53530883789062</td><td>3154816</td><td>-311.74237099999999</td><td>-238.41217</td><td>186.824127</td><td>0.243441463</td><td>-0.82278168200000001</td><td>-0.20659387100000001</td><td>0.88256131213479672</td><td>-73.517771806706634</td><td>-13.537659833325138</td><td>-75.891018875328768</td></tr><td>...</td><td>...</td><td>...</td><td>...</td><td>...</td><td>...</td><td>...</td><td>...</td><td>...</td><td>...</td><td>...</td><td>...</td><td>...</td><td>...</td><td>...</td><td>...</td><tr><td><i style='opacity: 0.6'>329,995</i></td><td>-119687.3203125</td><td>-1.6499842518381402</td><td>746.88336181640625</td><td>-508.96484375</td><td>1919483</td><td>107.432999</td><td>-2.13771296</td><td>17.5130272</td><td>3.7688379300000001</td><td>4.6625165900000001</td><td>-4.4290413900000001</td><td>7.4538317615146807</td><td>51.050456168539071</td><td>-36.455379751309145</td><td>404.89756156485208</td></tr><tr><td><i style='opacity: 0.6'>329,996</i></td><td>-68933.8046875</td><td>-1.4336036247720836</td><td>2395.633056640625</td><td>1275.490234375</td><td>1064141</td><td>32.0</td><td>108.089264</td><td>179.06063800000001</td><td>9.1740932500000003</td><td>-8.8709135099999994</td><td>-8.61707687</td><td>15.398412491068198</td><td>-44.037446450820575</td><td>-34.028701881429562</td><td>293.57098400000001</td></tr><tr><td><i style='opacity: 0.6'>329,997</i></td><td>-112580.359375</td><td>-1.9306227597361942</td><td>1182.436279296875</td><td>115.58557891845703</td><td>374845</td><td>8.4671134899999991</td><td>-38.276523599999997</td><td>-127.541473</td><td>-1.1404100699999999</td><td>-8.4957694999999998</td><td>2.2574982600000002</td><td>8.8642502739256326</td><td>-97.645267162537579</td><td>14.754296962440719</td><td>-9.6559814878288428</td></tr><tr><td><i style='opacity: 0.6'>329,998</i></td><td>-74862.90625</td><td>-1.2250198188385679</td><td>1324.5926513671875</td><td>1057.017333984375</td><td>425745</td><td>110.221558</td><td>-31.3925591</td><td>86.272682200000006</td><td>-14.298593500000001</td><td>-5.5175042200000002</td><td>-8.6547231700000005</td><td>17.601047186042507</td><td>-158.89952505313167</td><td>-29.453456673075294</td><td>-1576.0132527786732</td></tr><tr><td><i style='opacity: 0.6'>329,999</i></td><td>-95361.765625</td><td>-2.5689636894079477</td><td>351.09555053710938</td><td>-309.81439208984375</td><td>289364</td><td>-2.1054141500000001</td><td>-27.6108856</td><td>3.80799961</td><td>10.5450506</td><td>-8.86106777</td><td>-4.6583542800000002</td><td>14.540181524970293</td><td>-40.040532262632816</td><td>-18.685786270891111</td><td>-22.20169874570599</td></tr></table>"
      ],
      "text/plain": [
       "<vaex.hdf5.dataset.Hdf5MemoryMapped at 0x10f504208>"
      ]
     },
     "execution_count": 1,
     "metadata": {},
     "output_type": "execute_result"
    }
   ],
   "source": [
    "import vaex\n",
    "ds = vaex.example()\n",
    "ds  # begin the last statement it will print out the tabular data"
   ]
  },
  {
   "cell_type": "markdown",
   "metadata": {
    "collapsed": true,
    "deletable": true,
    "editable": true
   },
   "source": [
    "### Columns\n",
    "The above preview shows this dataset contains $> 300,000$ rows, and columns named x,y,z (positions), vx, vy, vz (velocities), E (energy), L (angular momentum). Printing out a column, shows it is not a numpy array, but an expression"
   ]
  },
  {
   "cell_type": "code",
   "execution_count": 2,
   "metadata": {
    "collapsed": false
   },
   "outputs": [
    {
     "data": {
      "text/plain": [
       "<vaex.expression.Expression(expressions='x')> instance at 0x110e8bf28 [-0.777470767, 3.77427316, 1.3757627, -7.06737804, 0.243441463 ... (total 330000 values) ... 3.76883793, 9.17409325, -1.14041007, -14.2985935, 10.5450506] "
      ]
     },
     "execution_count": 2,
     "metadata": {},
     "output_type": "execute_result"
    }
   ],
   "source": [
    "ds.x  # ds.col.x or ds['x'] are equivalent, but may be preferred because it is more tab completion friend or programmatics friendly respectively"
   ]
  },
  {
   "cell_type": "markdown",
   "metadata": {},
   "source": [
    "The underlying data is often accessible using `ds.data.x`, but should not be used, since selections and filtering are not reflected in this. However sometimes it is useful to access the raw numpy array."
   ]
  },
  {
   "cell_type": "code",
   "execution_count": 6,
   "metadata": {
    "collapsed": false
   },
   "outputs": [
    {
     "data": {
      "text/plain": [
       "array([ -0.77747077,   3.77427316,   1.3757627 , ...,  -1.14041007,\n",
       "       -14.2985935 ,  10.5450506 ])"
      ]
     },
     "execution_count": 6,
     "metadata": {},
     "output_type": "execute_result"
    }
   ],
   "source": [
    "ds.data.x"
   ]
  },
  {
   "cell_type": "markdown",
   "metadata": {},
   "source": [
    "A better way, if you need a numpy array (for instance for plotting, or passing to a different library) it to use evalulate, which will also work with virtual columns and selections (more on that below)."
   ]
  },
  {
   "cell_type": "code",
   "execution_count": 10,
   "metadata": {
    "collapsed": false
   },
   "outputs": [
    {
     "data": {
      "text/plain": [
       "array([ -0.77747077,   3.77427316,   1.3757627 , ...,  -1.14041007,\n",
       "       -14.2985935 ,  10.5450506 ])"
      ]
     },
     "execution_count": 10,
     "metadata": {},
     "output_type": "execute_result"
    }
   ],
   "source": [
    "ds.evaluate(ds.x)"
   ]
  },
  {
   "cell_type": "markdown",
   "metadata": {},
   "source": [
    "Most numpy function (ufuncs) can be performed on expressions, and will not result in a direct result, but in a new expression."
   ]
  },
  {
   "cell_type": "code",
   "execution_count": 5,
   "metadata": {
    "collapsed": false
   },
   "outputs": [
    {
     "data": {
      "text/plain": [
       "<vaex.expression.Expression(expressions='sqrt((((x) ** (2)) + ((y) ** (2))) + ((z) ** (2)))')> instance at 0x112a86940 [2.96554503966, 5.77829281049, 6.9907960395, 9.43184275271, 0.882561312135 ... (total 330000 values) ... 7.45383176151, 15.3984124911, 8.86425027393, 17.601047186, 14.540181525] "
      ]
     },
     "execution_count": 5,
     "metadata": {},
     "output_type": "execute_result"
    }
   ],
   "source": [
    "import numpy as np\n",
    "np.sqrt(ds.x**2 + ds.y**2 + ds.z**2)"
   ]
  },
  {
   "cell_type": "markdown",
   "metadata": {},
   "source": [
    "### Virtual functions\n",
    "Sometimes it is convenient to store an expression as a column, or virtual column, a column that does not take up memory, but will be computed on the fly. A virtual column can be treated as a normal column."
   ]
  },
  {
   "cell_type": "code",
   "execution_count": 8,
   "metadata": {
    "collapsed": false
   },
   "outputs": [
    {
     "data": {
      "text/html": [
       "<style>.vaex-description pre {\n",
       "\t\t  max-width : 450px;\n",
       "\t\t  white-space : nowrap;\n",
       "\t\t  overflow : hidden;\n",
       "\t\t  text-overflow: ellipsis;\n",
       "\t\t}\n",
       "\n",
       "\t\t.vex-description pre:hover {\n",
       "\t\t  max-width : initial;\n",
       "\t\t  white-space: pre;\n",
       "\t\t}</style>"
      ],
      "text/plain": [
       "<IPython.core.display.HTML object>"
      ]
     },
     "metadata": {},
     "output_type": "display_data"
    },
    {
     "data": {
      "text/html": [
       "<table class='table-striped'><thead><tr><th>#</th><th>x</th><th>y</th><th>z</th><th>r</th></tr></thead><tr><td><i style='opacity: 0.6'>0</i></td><td>-0.77747076699999995</td><td>2.1062629199999998</td><td>1.93743467</td><td>2.9655450396553587</td></tr><tr><td><i style='opacity: 0.6'>1</i></td><td>3.7742731599999999</td><td>2.2338719399999998</td><td>3.76209331</td><td>5.7782928104901803</td></tr><tr><td><i style='opacity: 0.6'>2</i></td><td>1.3757626999999999</td><td>-6.3283844</td><td>2.6325001700000001</td><td>6.9907960395025599</td></tr><tr><td><i style='opacity: 0.6'>3</i></td><td>-7.0673780400000004</td><td>1.31737781</td><td>-6.1054353700000004</td><td>9.4318427527075368</td></tr><tr><td><i style='opacity: 0.6'>4</i></td><td>0.243441463</td><td>-0.82278168200000001</td><td>-0.20659387100000001</td><td>0.88256131213479672</td></tr><td>...</td><td>...</td><td>...</td><td>...</td><td>...</td><tr><td><i style='opacity: 0.6'>329,995</i></td><td>3.7688379300000001</td><td>4.6625165900000001</td><td>-4.4290413900000001</td><td>7.4538317615146807</td></tr><tr><td><i style='opacity: 0.6'>329,996</i></td><td>9.1740932500000003</td><td>-8.8709135099999994</td><td>-8.61707687</td><td>15.398412491068198</td></tr><tr><td><i style='opacity: 0.6'>329,997</i></td><td>-1.1404100699999999</td><td>-8.4957694999999998</td><td>2.2574982600000002</td><td>8.8642502739256326</td></tr><tr><td><i style='opacity: 0.6'>329,998</i></td><td>-14.298593500000001</td><td>-5.5175042200000002</td><td>-8.6547231700000005</td><td>17.601047186042507</td></tr><tr><td><i style='opacity: 0.6'>329,999</i></td><td>10.5450506</td><td>-8.86106777</td><td>-4.6583542800000002</td><td>14.540181524970293</td></tr></table>"
      ],
      "text/plain": [
       "<vaex.dataset.DatasetArrays at 0x10484e5c0>"
      ]
     },
     "execution_count": 8,
     "metadata": {},
     "output_type": "execute_result"
    }
   ],
   "source": [
    "ds['r'] = np.sqrt(ds.x**2 + ds.y**2 + ds.z**2)\n",
    "ds[['x', 'y', 'z', 'r']]"
   ]
  },
  {
   "cell_type": "markdown",
   "metadata": {},
   "source": [
    "### Selections and filtering\n",
    "Vaex can be efficient when exploring subsets of the data, for instance to remove outlier or to inspect only a part of the data. Instead of making copies, internally vaex keeps track which rows is selected."
   ]
  },
  {
   "cell_type": "code",
   "execution_count": 9,
   "metadata": {
    "collapsed": false
   },
   "outputs": [
    {
     "data": {
      "text/plain": [
       "array([ -0.77747077,  -7.06737804,  -5.17174435, ...,  -1.87310386,\n",
       "        -1.14041007, -14.2985935 ])"
      ]
     },
     "execution_count": 9,
     "metadata": {},
     "output_type": "execute_result"
    }
   ],
   "source": [
    "ds.select(ds.x < 0)\n",
    "ds.evaluate(ds.x, selection=True)"
   ]
  },
  {
   "cell_type": "markdown",
   "metadata": {},
   "source": [
    "Selections can be useful if you want to change what you select frequently, as in visualization. A special selection, that is always applied, is what we call a filtering, and is similar in use to pandas"
   ]
  },
  {
   "cell_type": "code",
   "execution_count": 12,
   "metadata": {
    "collapsed": false
   },
   "outputs": [
    {
     "data": {
      "text/html": [
       "<style>.vaex-description pre {\n",
       "\t\t  max-width : 450px;\n",
       "\t\t  white-space : nowrap;\n",
       "\t\t  overflow : hidden;\n",
       "\t\t  text-overflow: ellipsis;\n",
       "\t\t}\n",
       "\n",
       "\t\t.vex-description pre:hover {\n",
       "\t\t  max-width : initial;\n",
       "\t\t  white-space: pre;\n",
       "\t\t}</style>"
      ],
      "text/plain": [
       "<IPython.core.display.HTML object>"
      ]
     },
     "metadata": {},
     "output_type": "display_data"
    },
    {
     "data": {
      "text/html": [
       "<table class='table-striped'><thead><tr><th>#</th><th>x</th><th>y</th><th>z</th><th>r</th></tr></thead><tr><td><i style='opacity: 0.6'>0</i></td><td>-0.77747076699999995</td><td>2.1062629199999998</td><td>1.93743467</td><td>2.9655450396553587</td></tr><tr><td><i style='opacity: 0.6'>1</i></td><td>-7.0673780400000004</td><td>1.31737781</td><td>-6.1054353700000004</td><td>9.4318427527075368</td></tr><tr><td><i style='opacity: 0.6'>2</i></td><td>-5.17174435</td><td>7.8291530600000003</td><td>1.8266882900000001</td><td>9.5592555864715436</td></tr><tr><td><i style='opacity: 0.6'>3</i></td><td>-15.953885100000001</td><td>5.7712588299999998</td><td>-9.0247230500000004</td><td>19.21664654397474</td></tr><tr><td><i style='opacity: 0.6'>4</i></td><td>-12.3994961</td><td>13.9181805</td><td>-5.4348230400000004</td><td>19.416502090763164</td></tr><td>...</td><td>...</td><td>...</td><td>...</td><td>...</td><tr><td><i style='opacity: 0.6'>165,935</i></td><td>-9.8855323800000008</td><td>-6.5925359700000001</td><td>6.5374202700000001</td><td>13.561826747838182</td></tr><tr><td><i style='opacity: 0.6'>165,936</i></td><td>-2.38018084</td><td>4.7354030600000003</td><td>0.14176586299999999</td><td>5.3018299229296861</td></tr><tr><td><i style='opacity: 0.6'>165,937</i></td><td>-1.8731038600000001</td><td>-0.50309121599999995</td><td>-0.95197701499999998</td><td>2.1605275001840565</td></tr><tr><td><i style='opacity: 0.6'>165,938</i></td><td>-1.1404100699999999</td><td>-8.4957694999999998</td><td>2.2574982600000002</td><td>8.8642502739256326</td></tr><tr><td><i style='opacity: 0.6'>165,939</i></td><td>-14.298593500000001</td><td>-5.5175042200000002</td><td>-8.6547231700000005</td><td>17.601047186042507</td></tr></table>"
      ],
      "text/plain": [
       "<vaex.dataset.DatasetArrays at 0x113795a58>"
      ]
     },
     "execution_count": 12,
     "metadata": {},
     "output_type": "execute_result"
    }
   ],
   "source": [
    "ds_negative = ds[ds.x < 0]\n",
    "ds_negative[['x', 'y', 'z', 'r']]"
   ]
  },
  {
   "cell_type": "markdown",
   "metadata": {},
   "source": [
    "## Statistics on N-d grids\n",
    "A core feature of vaex, and used for visualization, is calculation of statistics on N dimensional grids."
   ]
  },
  {
   "cell_type": "code",
   "execution_count": 15,
   "metadata": {
    "collapsed": false
   },
   "outputs": [
    {
     "data": {
      "text/plain": [
       "(330000.0, -0.067131491264005971, -5.2110379721119671)"
      ]
     },
     "execution_count": 15,
     "metadata": {},
     "output_type": "execute_result"
    }
   ],
   "source": [
    "ds.count(), ds.mean(ds.x), ds.mean(ds.x, selection=True)"
   ]
  },
  {
   "cell_type": "markdown",
   "metadata": {},
   "source": [
    "Similar to SQL's groupby, vaex uses the binby concept, which tells vaex that a statistic should be calculated on a regular grid (for performance reasons)"
   ]
  },
  {
   "cell_type": "code",
   "execution_count": 22,
   "metadata": {
    "collapsed": false
   },
   "outputs": [
    {
     "data": {
      "text/plain": [
       "array([ 1310.,  1416.,  1452.,  1519.,  1599.,  1810.,  1956.,  2005.,\n",
       "        2157.,  2357.,  2653.,  2786.,  3012.,  3215.,  3619.,  3890.,\n",
       "        3973.,  4400.,  4782.,  5126.,  5302.,  5729.,  6042.,  6562.,\n",
       "        6852.,  7167.,  7456.,  7633.,  7910.,  8415.,  8619.,  8246.,\n",
       "        8358.,  8769.,  8294.,  7870.,  7749.,  7389.,  7174.,  6901.,\n",
       "        6557.,  6173.,  5721.,  5367.,  4963.,  4655.,  4246.,  4110.,\n",
       "        3939.,  3611.,  3289.,  3018.,  2811.,  2570.,  2505.,  2267.,\n",
       "        2013.,  1803.,  1687.,  1563.,  1384.,  1326.,  1257.,  1189.])"
      ]
     },
     "execution_count": 22,
     "metadata": {},
     "output_type": "execute_result"
    }
   ],
   "source": [
    "xcounts = ds.count(binby=ds.x, limits=[-10, 10], shape=64)\n",
    "xcounts"
   ]
  },
  {
   "cell_type": "markdown",
   "metadata": {},
   "source": [
    "This results in a numpy array with the number counts in 64 bins distributed between x = -10, and x = 10. We can quickly visualize this using matplotlib."
   ]
  },
  {
   "cell_type": "code",
   "execution_count": 25,
   "metadata": {
    "collapsed": false
   },
   "outputs": [
    {
     "data": {
      "image/png": "[encoded data removed]",
      "text/plain": [
       "<matplotlib.figure.Figure at 0x1150315f8>"
      ]
     },
     "metadata": {},
     "output_type": "display_data"
    }
   ],
   "source": [
    "import matplotlib.pylab as plt\n",
    "plt.plot(np.linspace(-10, 10, 64), xcounts)\n",
    "plt.show()"
   ]
  },
  {
   "cell_type": "markdown",
   "metadata": {},
   "source": [
    "We can instead of doing 1d binning, do it in 2d as well (N-d actually), and visualize it using imshow."
   ]
  },
  {
   "cell_type": "code",
   "execution_count": 27,
   "metadata": {
    "collapsed": false
   },
   "outputs": [
    {
     "data": {
      "text/plain": [
       "array([[  9.,   3.,   3., ...,   3.,   2.,   1.],\n",
       "       [  5.,   3.,   1., ...,   1.,   3.,   3.],\n",
       "       [ 11.,   3.,   2., ...,   1.,   1.,   4.],\n",
       "       ..., \n",
       "       [ 12.,   6.,   8., ...,   0.,   1.,   0.],\n",
       "       [  7.,   6.,  12., ...,   3.,   0.,   0.],\n",
       "       [ 11.,  10.,   7., ...,   1.,   1.,   1.]])"
      ]
     },
     "execution_count": 27,
     "metadata": {},
     "output_type": "execute_result"
    }
   ],
   "source": [
    "xycounts = ds.count(binby=[ds.x, ds.y], limits=[[-10, 10], [-10, 20]], shape=(64, 128))\n",
    "xycounts"
   ]
  },
  {
   "cell_type": "code",
   "execution_count": 33,
   "metadata": {
    "collapsed": false
   },
   "outputs": [
    {
     "data": {
      "image/png": "[encoded data removed]",
      "text/plain": [
       "<matplotlib.figure.Figure at 0x116624d68>"
      ]
     },
     "metadata": {},
     "output_type": "display_data"
    }
   ],
   "source": [
    "plt.imshow(xycounts.T, origin='lower', extent=[-10, 10, -10, 20])\n",
    "plt.show()"
   ]
  },
  {
   "cell_type": "code",
   "execution_count": 34,
   "metadata": {
    "collapsed": false
   },
   "outputs": [
    {
     "data": {
      "text/plain": [
       "array([[ 144.38495511,  183.45775869,  187.78325557, ...,  138.99392387,\n",
       "         168.66141282,  142.55018784],\n",
       "       [ 143.72427758,  152.14679337,  107.90949865, ...,  119.65318885,\n",
       "          94.00098292,  104.35109636],\n",
       "       [ 172.08240652,  137.47896886,   72.51331138, ...,  179.85933835,\n",
       "          33.36968912,  111.81826254],\n",
       "       ..., \n",
       "       [ 186.56949934,  161.3747346 ,  174.27411865, ...,           nan,\n",
       "         105.96746091,           nan],\n",
       "       [ 179.55997022,  137.48979882,  113.82121826, ...,  104.90205692,\n",
       "                  nan,           nan],\n",
       "       [ 151.94323763,  135.44083212,   84.81787495, ...,  175.79289144,\n",
       "         129.63799565,  108.19069385]])"
      ]
     },
     "execution_count": 34,
     "metadata": {},
     "output_type": "execute_result"
    }
   ],
   "source": [
    "v = np.sqrt(ds.vx**2 + ds.vy**2 + ds.vz**2)\n",
    "xy_mean_v = ds.mean(v, binby=[ds.x, ds.y], limits=[[-10, 10], [-10, 20]], shape=(64, 128))\n",
    "xy_mean_v"
   ]
  },
  {
   "cell_type": "code",
   "execution_count": 35,
   "metadata": {
    "collapsed": false
   },
   "outputs": [
    {
     "data": {
      "image/png": "[encoded data removed]",
      "text/plain": [
       "<matplotlib.figure.Figure at 0x1166243c8>"
      ]
     },
     "metadata": {},
     "output_type": "display_data"
    }
   ],
   "source": [
    "plt.imshow(xy_mean_v.T, origin='lower', extent=[-10, 10, -10, 20])\n",
    "plt.show()"
   ]
  },
  {
   "cell_type": "code",
   "execution_count": null,
   "metadata": {
    "collapsed": true
   },
   "outputs": [],
   "source": []
  }
 ],
 "metadata": {
  "kernelspec": {
   "display_name": "Python 3",
   "language": "python",
   "name": "python3"
  },
  "language_info": {
   "codemirror_mode": {
    "name": "ipython",
    "version": 3
   },
   "file_extension": ".py",
   "mimetype": "text/x-python",
   "name": "python",
   "nbconvert_exporter": "python",
   "pygments_lexer": "ipython3",
   "version": "3.5.2"
  }
 },
 "nbformat": 4,
 "nbformat_minor": 2
}
